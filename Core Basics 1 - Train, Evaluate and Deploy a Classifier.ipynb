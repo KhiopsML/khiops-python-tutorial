{
 "cells": [
  {
   "cell_type": "markdown",
   "metadata": {},
   "source": [
    "# Core Basics 1: Train, Evaluate and Deploy a Classifier\n",
    "In this lesson we will learn how to train, evaluate and deploy classifiers with Khiops.\n",
    "\n",
    "We start by importing Khiops, some helper functions and saving the location of the Khiops `Samples` directory into a variable"
   ]
  },
  {
   "cell_type": "code",
   "execution_count": null,
   "metadata": {},
   "outputs": [],
   "source": [
    "from os import path\n",
    "\n",
    "from khiops import core as kh\n",
    "from helper_functions import explorer_open, peek\n",
    "\n",
    "samples_dir = kh.get_runner().samples_dir\n",
    "print(f\"Khiops samples directory located at {samples_dir}\")"
   ]
  },
  {
   "cell_type": "markdown",
   "metadata": {},
   "source": [
    "## Training a Classifier\n",
    "We'll train a classifier for the `Iris` dataset. This is a classical dataset containing the data of different plants belonging to the genus _Iris_. It contains 150 records, 50 for each of three variants of _Iris_: _Setosa_, _Virginica_ and _Versicolor_. The records for each sample contain the length and width of its petal and sepal. The standard task for this dataset is to construct a classifier for the type of _Iris_ taking as inputs the length and width characteristics.\n",
    "\n",
    "Now to train a classifier with Khiops we use two types of files:\n",
    "- A plain-text delimited data file (for example a `csv` file)\n",
    "- A _dictionary_ file which describes the schema of the above data table (`.kdic` file extension)\n",
    "\n",
    "\n",
    "Let's save into variables the locations of these files for the `Iris` dataset and then take a look at their contents:"
   ]
  },
  {
   "cell_type": "code",
   "execution_count": null,
   "metadata": {},
   "outputs": [],
   "source": [
    "iris_kdic = path.join(samples_dir, \"Iris\", \"Iris.kdic\")\n",
    "iris_data_file = path.join(samples_dir, \"Iris\", \"Iris.txt\")\n",
    "\n",
    "print(\"\")\n",
    "print(f\"Iris dictionary file location: {iris_kdic}\")\n",
    "print(\"\")\n",
    "peek(iris_kdic)\n",
    "\n",
    "print(\"\")\n",
    "print(\"\")\n",
    "print(f\"Iris data location: {iris_data_file}\")\n",
    "print(\"\")\n",
    "peek(iris_data_file)"
   ]
  },
  {
   "cell_type": "markdown",
   "metadata": {},
   "source": [
    "Note that the _Iris_ variant information is in the column `Class`. Now let's specify directory to save our results:"
   ]
  },
  {
   "cell_type": "code",
   "execution_count": null,
   "metadata": {},
   "outputs": [],
   "source": [
    "iris_results_dir = path.join(\"exercises\", \"Iris\")\n",
    "print(f\"Iris results directory: {iris_results_dir}\")"
   ]
  },
  {
   "cell_type": "markdown",
   "metadata": {},
   "source": [
    "We are now ready to train the classifier with the Khiops function `train_predictor`. This method returns a tuple containing the location of two files:\n",
    "- the modeling report (`AllReports.khj`): A JSON file containing information such as the informativeness of each variable, those selected for the model and performance metrics.\n",
    "- model's _dictionary_ file (`Modeling.kdic`): This file is an enriched version of the initial dictionary file that contains the model. It can be used to make predictions on new data."
   ]
  },
  {
   "cell_type": "code",
   "execution_count": null,
   "metadata": {},
   "outputs": [],
   "source": [
    "iris_report, iris_model_kdic = kh.train_predictor(\n",
    "    iris_kdic,\n",
    "    dictionary_name=\"Iris\",\n",
    "    data_table_path=iris_data_file,\n",
    "    target_variable=\"Class\",\n",
    "    results_dir=iris_results_dir,\n",
    "    max_trees=0,  # by default Khiops constructs 10 decision tree variables\n",
    ")\n",
    "print(f\"Iris report file located at: {iris_report}\")\n",
    "print(f\"Iris modeling dictionary file located at: {iris_model_kdic}\")"
   ]
  },
  {
   "cell_type": "markdown",
   "metadata": {},
   "source": [
    "You can verify that the result files were created in `iris_results_dir`. In the next sections, we'll use the file at `iris_report` to assess the models' performances and the file at `iris_model_kdic` to deploy it."
   ]
  },
  {
   "cell_type": "code",
   "execution_count": null,
   "metadata": {},
   "outputs": [],
   "source": [
    "# To take a look at the directory where the resulting files are stored\n",
    "# explorer_open(iris_results_dir)"
   ]
  },
  {
   "cell_type": "markdown",
   "metadata": {},
   "source": [
    "### Exercise\n",
    "\n",
    "We'll repeat the examples on this notebook with the `Adult` dataset. It contains characteristics of the adult population in USA such as age, gender and education and its task is to predict the variable `class`, which indicates if the individual earns `more` or `less` than 50,000 dollars.\n",
    "\n",
    "Let's start by putting into variables the paths for the `Adult` dataset:"
   ]
  },
  {
   "cell_type": "code",
   "execution_count": null,
   "metadata": {},
   "outputs": [],
   "source": [
    "adult_kdic = path.join(samples_dir, \"Adult\", \"Adult.kdic\")\n",
    "adult_data_file = path.join(samples_dir, \"Adult\", \"Adult.txt\")"
   ]
  },
  {
   "cell_type": "markdown",
   "metadata": {},
   "source": [
    "#### Print the file locations and use the function `peek` to list their contents"
   ]
  },
  {
   "cell_type": "code",
   "execution_count": null,
   "metadata": {
    "is_khiops_tutorial_solution": true
   },
   "outputs": [],
   "source": [
    "print(\"\")\n",
    "print(f\"Adult dictionary file location: {adult_kdic}\")\n",
    "print(\"\")\n",
    "peek(adult_kdic)\n",
    "\n",
    "print(\"\")\n",
    "print(\"\")\n",
    "print(f\"Adult data location: {adult_data_file}\")\n",
    "print(\"\")\n",
    "peek(adult_data_file)"
   ]
  },
  {
   "cell_type": "markdown",
   "metadata": {},
   "source": [
    "We now save the results directory for this exercise:"
   ]
  },
  {
   "cell_type": "code",
   "execution_count": null,
   "metadata": {},
   "outputs": [],
   "source": [
    "adult_results_dir = path.join(\"exercises\", \"Adult\")\n",
    "print(f\"Adult exercise results directory: {adult_results_dir}\")"
   ]
  },
  {
   "cell_type": "markdown",
   "metadata": {},
   "source": [
    "#### Train a classifier for the `Adult` database\n",
    "Note the name of the target variable is `class` (**in lower case!**). Do not forget to set `max_trees=0`. Save the resulting file locations into the variables `adult_report` and `adult_model_kdic` and print them"
   ]
  },
  {
   "cell_type": "code",
   "execution_count": null,
   "metadata": {
    "is_khiops_tutorial_solution": true
   },
   "outputs": [],
   "source": [
    "adult_report, adult_model_kdic = kh.train_predictor(\n",
    "    adult_kdic,\n",
    "    dictionary_name=\"Adult\",\n",
    "    data_table_path=adult_data_file,\n",
    "    target_variable=\"class\",\n",
    "    results_dir=adult_results_dir,\n",
    "    max_trees=0,\n",
    ")\n",
    "print(f\"Adult report file located at: {adult_report}\")\n",
    "print(f\"Adult modeling dictionary file located at: {adult_model_kdic}\")"
   ]
  },
  {
   "cell_type": "markdown",
   "metadata": {},
   "source": [
    "## Accessing a Classifiers' Basic Evaluation Metrics\n",
    "\n",
    "We access the classifier's evaluation metrics by loading file at `iris_report` file with the Khiops function `read_analysis_results_file`:"
   ]
  },
  {
   "cell_type": "code",
   "execution_count": null,
   "metadata": {},
   "outputs": [],
   "source": [
    "iris_results = kh.read_analysis_results_file(iris_report)\n",
    "print(type(iris_results))"
   ]
  },
  {
   "cell_type": "markdown",
   "metadata": {},
   "source": [
    "The resulting object is an instance of the `AnalysisResults` class. The model evaluation reports are stored in its `train_evaluation_report` and `test_evaluation_report` attributes which are of class `EvaluationReport`."
   ]
  },
  {
   "cell_type": "code",
   "execution_count": null,
   "metadata": {},
   "outputs": [],
   "source": [
    "iris_train_eval = iris_results.train_evaluation_report\n",
    "iris_test_eval = iris_results.test_evaluation_report\n",
    "print(type(iris_train_eval))\n",
    "print(type(iris_test_eval))"
   ]
  },
  {
   "cell_type": "markdown",
   "metadata": {},
   "source": [
    "We access the default predictor's metrics with the `get_snb_performance` method of the evaluation report objects:"
   ]
  },
  {
   "cell_type": "code",
   "execution_count": null,
   "metadata": {},
   "outputs": [],
   "source": [
    "iris_train_performance = iris_train_eval.get_snb_performance()\n",
    "iris_test_performance = iris_test_eval.get_snb_performance()"
   ]
  },
  {
   "cell_type": "markdown",
   "metadata": {},
   "source": [
    "These objects are of class `PredictorPerformance`  and have `accuracy` and `auc` attributes for these metrics:"
   ]
  },
  {
   "cell_type": "code",
   "execution_count": null,
   "metadata": {},
   "outputs": [],
   "source": [
    "print(f\"Iris train accuracy: {iris_train_performance.accuracy}\")\n",
    "print(f\"Iris test accuracy:  {iris_test_performance.accuracy}\")\n",
    "print(\"\")\n",
    "print(f\"Iris train AUC: {iris_train_performance.auc}\")\n",
    "print(f\"Iris test AUC:  {iris_test_performance.auc}\")"
   ]
  },
  {
   "cell_type": "markdown",
   "metadata": {},
   "source": [
    "### Exercise\n",
    "#### Read the contents of the file at `adult_report` for the Adult analysis and print its type"
   ]
  },
  {
   "cell_type": "code",
   "execution_count": null,
   "metadata": {
    "is_khiops_tutorial_solution": true
   },
   "outputs": [],
   "source": [
    "adult_results = kh.read_analysis_results_file(adult_report)\n",
    "type(adult_results)"
   ]
  },
  {
   "cell_type": "markdown",
   "metadata": {},
   "source": [
    "#### Save the evaluation reports of the `Adult` classification to the variables `adult_train_eval` and `adult_test_eval`"
   ]
  },
  {
   "cell_type": "code",
   "execution_count": null,
   "metadata": {
    "is_khiops_tutorial_solution": true
   },
   "outputs": [],
   "source": [
    "adult_train_eval = adult_results.train_evaluation_report\n",
    "adult_test_eval = adult_results.test_evaluation_report"
   ]
  },
  {
   "cell_type": "markdown",
   "metadata": {},
   "source": [
    "#### Show the model's train and test accuracies and AUCs"
   ]
  },
  {
   "cell_type": "code",
   "execution_count": null,
   "metadata": {
    "is_khiops_tutorial_solution": true
   },
   "outputs": [],
   "source": [
    "adult_train_performance = adult_train_eval.get_snb_performance()\n",
    "adult_test_performance = adult_test_eval.get_snb_performance()\n",
    "print(f\"Adult train accuracy: {adult_train_performance.accuracy}\")\n",
    "print(f\"Adult test accuracy:  {adult_test_performance.accuracy}\")\n",
    "print(\"\")\n",
    "print(f\"Adult train AUC: {adult_train_performance.auc}\")\n",
    "print(f\"Adult test AUC:  {adult_test_performance.auc}\")"
   ]
  },
  {
   "cell_type": "markdown",
   "metadata": {},
   "source": [
    "## Deploying a Classifier\n",
    "We are going to deploy the `Iris` classifier we have just trained on the same dataset (normally we would do this on new data). We saved the model in the file `iris_model_kdic`. This file is usually large and incomprehensible, so you should know what you are doing before editing it. Just this time let's take a quick look at its contents:"
   ]
  },
  {
   "cell_type": "code",
   "execution_count": null,
   "metadata": {},
   "outputs": [],
   "source": [
    "peek(iris_model_kdic, 25)"
   ]
  },
  {
   "cell_type": "markdown",
   "metadata": {},
   "source": [
    "Note that the modeling dictionary contains 5 used variables:\n",
    "- `Class` : The original target of the dataset\n",
    "- `PredictedClass` : The class with the highest probability according to the model\n",
    "- `ProbClassIris-setosa`, `ProbClassIris-versicolor`, `ProbClassIris-virginica`: The probabilities of each class according to the model\n",
    "\n",
    "These will be the columns of the output table when deploying the model:"
   ]
  },
  {
   "cell_type": "code",
   "execution_count": null,
   "metadata": {},
   "outputs": [],
   "source": [
    "iris_deployment_file = path.join(iris_results_dir, \"iris_deployment.txt\")\n",
    "kh.deploy_model(\n",
    "    iris_model_kdic,\n",
    "    dictionary_name=\"SNB_Iris\",\n",
    "    data_table_path=iris_data_file,\n",
    "    output_data_table_path=iris_deployment_file,\n",
    ")\n",
    "\n",
    "peek(iris_deployment_file)"
   ]
  },
  {
   "cell_type": "markdown",
   "metadata": {},
   "source": [
    "### Exercise\n",
    "#### Use the `deploy_model` function to deploy the model stored in the file at `adult_model_kdic`\n",
    "Which columns are deployed?"
   ]
  },
  {
   "cell_type": "code",
   "execution_count": null,
   "metadata": {
    "is_khiops_tutorial_solution": true
   },
   "outputs": [],
   "source": [
    "adult_deployment_file = path.join(adult_results_dir, \"adult_deployment.txt\")\n",
    "kh.deploy_model(\n",
    "    adult_model_kdic,\n",
    "    dictionary_name=\"SNB_Adult\",\n",
    "    data_table_path=adult_data_file,\n",
    "    output_data_table_path=adult_deployment_file,\n",
    ")\n",
    "peek(adult_deployment_file)"
   ]
  }
 ],
 "metadata": {
  "celltoolbar": "Edit Metadata",
  "kernelspec": {
   "display_name": "Python 3",
   "language": "python",
   "name": "python3"
  },
  "language_info": {
   "codemirror_mode": {
    "name": "ipython",
    "version": 3
   },
   "file_extension": ".py",
   "mimetype": "text/x-python",
   "name": "python",
   "nbconvert_exporter": "python",
   "pygments_lexer": "ipython3"
  }
 },
 "nbformat": 4,
 "nbformat_minor": 2
}

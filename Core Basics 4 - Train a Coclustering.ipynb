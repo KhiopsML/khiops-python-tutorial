{
 "cells": [
  {
   "cell_type": "markdown",
   "metadata": {},
   "source": [
    "\n",
    "# Core Basics 4: Train a Coclustering\n",
    "The steps to train a coclustering model with Khiops are very similar to what we have already seen in the basic classifier tutorials.\n",
    "\n",
    "We now execute the tutorial setup:"
   ]
  },
  {
   "cell_type": "code",
   "execution_count": null,
   "metadata": {},
   "outputs": [],
   "source": [
    "from os import path\n",
    "from khiops import core as kh\n",
    "from helper_functions import explorer_open, peek"
   ]
  },
  {
   "cell_type": "markdown",
   "metadata": {},
   "source": [
    "As stated before, sometimes it is better to have a more adapted visualization for an unsupervised analysis. We illustrate this point with the dataset `CountriesByOrganization` that contains the relation country-organization for a large number of organizations and countries (*it is bit outdated though*)"
   ]
  },
  {
   "cell_type": "code",
   "execution_count": null,
   "metadata": {},
   "outputs": [],
   "source": [
    "countries_kdic = path.join(\n",
    "    \"data\", \"CountriesByOrganization\", \"CountriesByOrganization.kdic\"\n",
    ")\n",
    "countries_data_file = path.join(\n",
    "    \"data\", \"CountriesByOrganization\", \"CountriesByOrganization.csv\"\n",
    ")\n",
    "\n",
    "print(\"\")\n",
    "print(f\"CountriesByOrganization dictionary file location: {countries_kdic}\")\n",
    "print(\"\")\n",
    "peek(countries_kdic, n=15)\n",
    "\n",
    "print(\"\")\n",
    "print(f\"CountriesByOrganization data table file location: {countries_data_file}\")\n",
    "print(\"\")\n",
    "peek(countries_data_file)"
   ]
  },
  {
   "cell_type": "markdown",
   "metadata": {},
   "source": [
    "We now create a coclustering model for this dataset"
   ]
  },
  {
   "cell_type": "code",
   "execution_count": null,
   "metadata": {},
   "outputs": [],
   "source": [
    "countries_results_dir = path.join(\"exercises\", \"CountriesByOrganization\")\n",
    "\n",
    "countries_cc_report = kh.train_coclustering(\n",
    "    countries_kdic,\n",
    "    dictionary_name=\"CountriesByOrganization\",\n",
    "    data_table_path=countries_data_file,\n",
    "    coclustering_variables=[\"Country\", \"Organization\"],\n",
    "    results_dir=countries_results_dir,\n",
    "    field_separator=\";\",\n",
    ")"
   ]
  },
  {
   "cell_type": "markdown",
   "metadata": {},
   "source": [
    "We can now browse the results with the Khiops Covisualization app:"
   ]
  },
  {
   "cell_type": "code",
   "execution_count": null,
   "metadata": {},
   "outputs": [],
   "source": [
    "# explorer_open(path.dirname(countries_cc_report))"
   ]
  },
  {
   "cell_type": "markdown",
   "metadata": {},
   "source": [
    "We can now dump the country clusters and its metrics to a file with the `extract_clusters` function"
   ]
  },
  {
   "cell_type": "code",
   "execution_count": null,
   "metadata": {},
   "outputs": [],
   "source": [
    "country_clusters_file = path.join(\n",
    "    \"exercises\", \"CountriesByOrganization\", \"CountryClusters.txt\"\n",
    ")\n",
    "kh.extract_clusters(\n",
    "    countries_cc_report,\n",
    "    cluster_variable=\"Country\",\n",
    "    clusters_file_path=country_clusters_file,\n",
    ")\n",
    "peek(country_clusters_file, n=100)"
   ]
  },
  {
   "cell_type": "markdown",
   "metadata": {},
   "source": [
    "### Exercise\n",
    "We'll build a coclustering for the `Tokyo2021` dataset. It is extracted for the `Athletes` table of the [Tokyo 2021 Kaggle dataset](https://www.kaggle.com/arjunprasadsarkhel/2021-olympics-in-tokyo) and each record contains three variables:\n",
    "- `Name`: the name of a competing athlete\n",
    "- `Country`: the country (or organization) it represents\n",
    "- `Discipline`: the athletes discipline\n",
    "\n",
    "The idea for this exercise is to make a coclustering between `Country` and `Discipline` and see which countries resemble the most in terms of the athletes they bring to the Olympics. \n",
    "\n",
    "We start by saving the dataset dictionary file and data table location into variables:"
   ]
  },
  {
   "cell_type": "code",
   "execution_count": null,
   "metadata": {},
   "outputs": [],
   "source": [
    "tokyo_kdic = path.join(\"data\", \"Tokyo2021\", \"Athletes.kdic\")\n",
    "tokyo_data_file = path.join(\"data\", \"Tokyo2021\", \"Athletes.csv\")\n",
    "tokyo_results_dir = path.join(\"exercises\", \"Tokyo2021\")"
   ]
  },
  {
   "cell_type": "markdown",
   "metadata": {},
   "source": [
    "#### `peek` the contents of the dictionary and data files"
   ]
  },
  {
   "cell_type": "code",
   "execution_count": null,
   "metadata": {},
   "outputs": [],
   "source": [
    "print(\"\")\n",
    "print(f\"Tokyo2021 dictionary file location: {tokyo_kdic}\")\n",
    "print(\"\")\n",
    "peek(tokyo_kdic, n=15)\n",
    "\n",
    "print(\"\")\n",
    "print(f\"Tokyo data table file location: {tokyo_data_file}\")\n",
    "print(\"\")\n",
    "peek(tokyo_data_file)"
   ]
  },
  {
   "cell_type": "markdown",
   "metadata": {},
   "source": [
    "#### Train the coclustering for the variables `Country` and `Discipline`\n",
    "Do not forget that the separator is `,`"
   ]
  },
  {
   "cell_type": "code",
   "execution_count": null,
   "metadata": {
    "is_khiops_tutorial_solution": true
   },
   "outputs": [],
   "source": [
    "tokyo_cc_report = kh.train_coclustering(\n",
    "    tokyo_kdic,\n",
    "    dictionary_name=\"Athletes\",\n",
    "    coclustering_variables=[\"Country\", \"Discipline\"],\n",
    "    data_table_path=tokyo_data_file,\n",
    "    results_dir=tokyo_results_dir,\n",
    "    field_separator=\",\",\n",
    ")"
   ]
  },
  {
   "cell_type": "markdown",
   "metadata": {},
   "source": [
    "You may see the coclustering with the covisualization app:"
   ]
  },
  {
   "cell_type": "code",
   "execution_count": null,
   "metadata": {},
   "outputs": [],
   "source": [
    "# explorer_open(path.dirname(tokyo_coclustering_report))"
   ]
  },
  {
   "cell_type": "markdown",
   "metadata": {},
   "source": [
    "#### Use `extract_clusters` to extract the country clusters and `peek` its contents"
   ]
  },
  {
   "cell_type": "code",
   "execution_count": null,
   "metadata": {
    "is_khiops_tutorial_solution": true
   },
   "outputs": [],
   "source": [
    "tokyo_country_clusters_file = path.join(\"exercises\", \"Tokyo2021\", \"CountryClusters.txt\")\n",
    "\n",
    "kh.extract_clusters(\n",
    "    tokyo_cc_report,\n",
    "    cluster_variable=\"Country\",\n",
    "    clusters_file_path=tokyo_country_clusters_file,\n",
    ")\n",
    "peek(tokyo_country_clusters_file, n=200)"
   ]
  },
  {
   "cell_type": "markdown",
   "metadata": {},
   "source": [
    "#### Use `extract_clusters` to extract the discipline clusters and `peek` its contents"
   ]
  },
  {
   "cell_type": "code",
   "execution_count": null,
   "metadata": {
    "is_khiops_tutorial_solution": true
   },
   "outputs": [],
   "source": [
    "tokyo_discipline_clusters_file = path.join(\n",
    "    \"exercises\", \"Tokyo2021\", \"CountryClusters.txt\"\n",
    ")\n",
    "\n",
    "kh.extract_clusters(\n",
    "    tokyo_cc_report,\n",
    "    cluster_variable=\"Discipline\",\n",
    "    clusters_file_path=tokyo_discipline_clusters_file,\n",
    ")\n",
    "peek(tokyo_discipline_clusters_file, n=200, l=100)"
   ]
  }
 ],
 "metadata": {
  "celltoolbar": "Edit Metadata",
  "kernelspec": {
   "display_name": "Python 3",
   "language": "python",
   "name": "python3"
  },
  "language_info": {
   "codemirror_mode": {
    "name": "ipython",
    "version": 3
   },
   "file_extension": ".py",
   "mimetype": "text/x-python",
   "name": "python",
   "nbconvert_exporter": "python",
   "pygments_lexer": "ipython3"
  }
 },
 "nbformat": 4,
 "nbformat_minor": 2
}

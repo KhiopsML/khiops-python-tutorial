{
 "cells": [
  {
   "cell_type": "markdown",
   "metadata": {},
   "source": [
    "# Core Basics 2: Train a Classifier on a Star Multi-Table Dataset\n",
    "\n",
    "In this notebook we learn how to train a classifier with a multi-table data composed of two tables (a root table and a secondary table). It is highly recommended to see the _Core Basics 1_ lesson if you are not familiar with Khiops.\n",
    "\n",
    "Make sure you have installed [Khiops](https://khiops.org/setup/) and [Khiops Visualization](https://khiops.org/setup/visualization/).\n",
    "\n",
    "We start by importing Khiops, checking its installation and defining some helper functions:"
   ]
  },
  {
   "cell_type": "code",
   "execution_count": null,
   "metadata": {},
   "outputs": [],
   "source": [
    "import os\n",
    "import platform\n",
    "import subprocess\n",
    "from khiops import core as kh\n",
    "\n",
    "# Define peek helper function\n",
    "def peek(file_path, n=10):\n",
    "    \"\"\"Shows the first n lines of a file\"\"\"\n",
    "    with open(file_path, encoding=\"utf8\", errors=\"replace\") as file:\n",
    "        for line in file.readlines()[:n]:\n",
    "            print(line, end=\"\")\n",
    "    print(\"\")\n",
    "\n",
    "\n",
    "# If there are any issues you may Khiops status with the following command\n",
    "# kh.get_runner().print_status()"
   ]
  },
  {
   "cell_type": "markdown",
   "metadata": {},
   "source": [
    "### Training a Multi-Table Classifier\n",
    "We'll train a \"sarcasm detector\" using the dataset `HeadlineSarcasm`. In its raw form, it contains a list of text headlines paired with a label that indicates whether its source is a sarcastic site (such as [The Onion](https://www.theonion.com)) or not.\n",
    "\n",
    "We have transformed this dataset into two tables such that the text-label record\n",
    "```\n",
    "\"groundbreaking study finds gratification can be deliberately postponed\"\tyes\n",
    "```\n",
    "is transformed to an entry in a table that contains id-label records\n",
    "```\n",
    "97 yes\n",
    "```\n",
    "and various entries in a secondary table linking a headline id to its words and positions\n",
    "```\n",
    "97\t0\tgroundbreaking\n",
    "97\t1\tstudy\n",
    "97\t2\tfinds\n",
    "97\t3\tgratification\n",
    "97\t4\tcan\n",
    "97\t5\tbe\n",
    "97\t6\tdeliberately\n",
    "97\t7\tpostponed\n",
    "```\n",
    "\n",
    "Thus the `HeadlineSarcasm` dataset has the following multi-table schema\n",
    "```\n",
    " +-----------+\n",
    " |Headline   |\n",
    " +-----------+ +-------------+\n",
    " |HeadlineId*| |HeadlineWords|\n",
    " |IsSarcastic| +-------------+\n",
    " +-----------+ |HeadlineId*  |\n",
    "      |        |Position     |\n",
    "      +-1:n--->|Word         |\n",
    "               +-------------+\n",
    "```\n",
    "The `HeadlineId` variable is special because it is a _key_ that links a particular headline to its words (a 1:n relation).\n",
    "\n",
    "*Note: There are other methods more appropriate for this text-mining problem. This multi-table setup is only for pedagogical purporses.*\n",
    "\n",
    "To train a classifier with Khiops in this multi-table setup, this schema must be codified in the dictionary file. Let's check the contents of the `HeadlineSarcasm` dictionary file:"
   ]
  },
  {
   "cell_type": "code",
   "execution_count": null,
   "metadata": {},
   "outputs": [],
   "source": [
    "sarcasm_kdic = os.path.join(\"data\", \"HeadlineSarcasm\", \"HeadlineSarcasm.kdic\")\n",
    "\n",
    "print(f\"HeadlineSarcasm dictionary file: {sarcasm_kdic}\")\n",
    "print(\"\")\n",
    "peek(sarcasm_kdic, n=15)"
   ]
  },
  {
   "cell_type": "markdown",
   "metadata": {},
   "source": [
    "As in the single-table case the `.kdic`file describes the schema for both tables, but note the following differences:\n",
    "- The dictionary for the table `Headline` is prefixed by the `Root` keyword to indicate that is the main one.\n",
    "- For both tables, their dictionary names are followed by `(HeadlineId)` to indicate that `HeadlineId` is the key of these tables.\n",
    "- The schema for the main table contains an extra special variable defined with the statement `Table(Words) HeadlineWords`. This is, in addition to sharing the same key variable, is necessary to indicate the `1:n` relationship between the main and secondary table.\n",
    "\n",
    "Now let's store the location main and secondary tables and peek their contents:"
   ]
  },
  {
   "cell_type": "code",
   "execution_count": null,
   "metadata": {},
   "outputs": [],
   "source": [
    "sarcasm_headlines_file = os.path.join(\"data\", \"HeadlineSarcasm\", \"Headlines.txt\")\n",
    "sarcasm_words_file = os.path.join(\"data\", \"HeadlineSarcasm\", \"HeadlineWords.txt\")\n",
    "\n",
    "print(f\"HeadlineSarcasm main table file: {sarcasm_headlines_file}\")\n",
    "print(\"\")\n",
    "peek(sarcasm_headlines_file, n=3)\n",
    "\n",
    "print(f\"HeadlineSarcasm secondary table file location: {sarcasm_words_file}\")\n",
    "print(\"\")\n",
    "peek(sarcasm_words_file, n=15)"
   ]
  },
  {
   "cell_type": "markdown",
   "metadata": {},
   "source": [
    "The call to the `train_predictor` will be very similar to the single-table case but there are some differences. \n",
    "\n",
    "The first is that we must pass the path of the extra secondary data table. This is done with the `additional_data_tables` parameter that is a Python dictionary containing key-value pairs for each table. More precisely:\n",
    "- keys describe *data paths* of secondary tables. In this case only ``Headline`HeadlineWords``\n",
    "- values describe the *file paths* of secondary tables. In this case only the file path we stored in `sarcasm_words_file`\n",
    "\n",
    "*Note: For understanding what data paths are see the \"Multi-Table Tasks\" section of the Khiops `core.api` documentation*\n",
    "\n",
    "Secondly, we specify how many features/aggregates Khiops will create with its multi-table AutoML mode. For the `HeadlineSarcasm` dataset Khiops can create features such as:\n",
    "- *Number of different words in the headline* \n",
    "- *Most common word in the headline before the third one*\n",
    "- *Number of times the word 'the' appears*\n",
    "- ...\n",
    "\n",
    "It will then evaluate, select and combine the created features to build a classifier. We'll ask to create `1000` of these features (the default is `100`).\n",
    "\n",
    "With these considerations, let's setup the some extra variables and train the classifier:"
   ]
  },
  {
   "cell_type": "code",
   "execution_count": null,
   "metadata": {},
   "outputs": [],
   "source": [
    "sarcasm_results_dir = os.path.join(\"exercises\", \"HeadlineSarcasm\")\n",
    "\n",
    "sarcasm_report, sarcasm_model_kdic = kh.train_predictor(\n",
    "    sarcasm_kdic,\n",
    "    dictionary_name=\"Headline\",  # This must be the main/root dictionary\n",
    "    data_table_path=sarcasm_headlines_file,  # This must be the data file for the main table\n",
    "    target_variable=\"IsSarcasm\",\n",
    "    results_dir=sarcasm_results_dir,\n",
    "    additional_data_tables={\"Headline`HeadlineWords\": sarcasm_words_file},\n",
    "    max_constructed_variables=1000,  # by default Khiops constructs 100 variables for AutoML multi-table\n",
    "    max_trees=0,  # by default Khiops constructs 10 decision tree variables\n",
    ")\n",
    "print(f\"HeadlineSarcasm report file located at: {sarcasm_report}\")\n",
    "print(f\"HeadlineSarcasm modeling dictionary file located at: {sarcasm_model_kdic}\")"
   ]
  },
  {
   "cell_type": "markdown",
   "metadata": {},
   "source": [
    "We now may take a look at the results with the visualization tool:"
   ]
  },
  {
   "cell_type": "code",
   "execution_count": null,
   "metadata": {},
   "outputs": [],
   "source": [
    "# To visualize uncomment the line below\n",
    "# kh.visualize_report(sarcasm_report)"
   ]
  },
  {
   "cell_type": "markdown",
   "metadata": {},
   "source": [
    "*Note: In the multi-table case, the input tables must be sorted by their key column in lexicographical order. To do this you may use the Khiops `sort_data_table` function or your favorite software. The examples of this tutorial have their tables pre-sorted.*"
   ]
  },
  {
   "cell_type": "markdown",
   "metadata": {},
   "source": [
    "### Exercise time!\n",
    "\n",
    "Repeat the previous steps with the `AccidentsSummary` dataset. It describes the characteristics of traffic accidents that happened in France in 2018. It has two tables with the following schema:\n",
    "```\n",
    "+---------------+\n",
    "|Accidents      |\n",
    "+---------------+\n",
    "|AccidentId*    |\n",
    "|Gravity        |\n",
    "|Date           |\n",
    "|Hour           | +---------------+\n",
    "|Light          | |Vehicles       |\n",
    "|Department     | +---------------+\n",
    "|Commune        | |AccidentId*    |\n",
    "|InAgglomeration| |VehicleId*     |\n",
    "|...            | |Direction      |\n",
    "+---------------+ |Category       |\n",
    "       |          |PassengerNumber|\n",
    "       +---1:n--->|...            |\n",
    "                  +---------------+\n",
    "```\n",
    "So for each accident we have its characteristics (such as `Gravity` or `Light` conditions) and those of each involved vehicle (its `Direction` or `PassengerNumber`). The main task for this dataset is to predict the variable `Gravity` that has two possible values:`Lethal` and `NonLethal`.\n",
    "\n",
    "We first save the paths of the `AccidentsSummary` dictionary file and data table files into variables:"
   ]
  },
  {
   "cell_type": "code",
   "execution_count": null,
   "metadata": {},
   "outputs": [],
   "source": [
    "accidents_kdic = os.path.join(\n",
    "    kh.get_samples_dir(), \"AccidentsSummary\", \"Accidents.kdic\"\n",
    ")\n",
    "accidents_data_file = os.path.join(\n",
    "    kh.get_samples_dir(), \"AccidentsSummary\", \"Accidents.txt\"\n",
    ")\n",
    "vehicles_data_file = os.path.join(\n",
    "    kh.get_samples_dir(), \"AccidentsSummary\", \"Vehicles.txt\"\n",
    ")"
   ]
  },
  {
   "cell_type": "markdown",
   "metadata": {},
   "source": [
    "#### Print the file locations and use the function `peek` to list their contents\n",
    "Which table is the `Root` in this case?"
   ]
  },
  {
   "cell_type": "code",
   "execution_count": null,
   "metadata": {
    "is_khiops_tutorial_solution": true
   },
   "outputs": [],
   "source": [
    "print(f\"Accidents dictionary file: {accidents_kdic}\")\n",
    "print(\"\")\n",
    "peek(accidents_kdic, n=40)\n",
    "\n",
    "print(f\"Accidents (main) data table: {accidents_data_file}\")\n",
    "print(\"\")\n",
    "peek(accidents_data_file)\n",
    "\n",
    "print(f\"Vehicles data table: {vehicles_data_file}\")\n",
    "print(\"\")\n",
    "peek(vehicles_data_file)"
   ]
  },
  {
   "cell_type": "markdown",
   "metadata": {},
   "source": [
    "We now save the results directory for this exercise:"
   ]
  },
  {
   "cell_type": "code",
   "execution_count": null,
   "metadata": {},
   "outputs": [],
   "source": [
    "accidents_results_dir = os.path.join(\"exercises\", \"AccidentSummary\")\n",
    "print(f\"AccidentsSummary exercise results directory: {accidents_results_dir}\")"
   ]
  },
  {
   "cell_type": "markdown",
   "metadata": {},
   "source": [
    "#### Train a classifier for the `Accidents` database with 1000 variables\n",
    "Save the resulting file locations into the variables `accidents_report` and `accidents_model_kdic` and print them.\n",
    "\n",
    "Do not forget:\n",
    "- The target variable is `Gravity`\n",
    "- The key for the `additional_data_tables` parameter is ``Accident`Vehicles`` and its value that of `vehicles_data_file`\n",
    "- Set `max_trees=0`"
   ]
  },
  {
   "cell_type": "code",
   "execution_count": null,
   "metadata": {
    "is_khiops_tutorial_solution": true
   },
   "outputs": [],
   "source": [
    "accidents_report, accidents_model_kdic = kh.train_predictor(\n",
    "    accidents_kdic,\n",
    "    dictionary_name=\"Accident\",\n",
    "    data_table_path=accidents_data_file,\n",
    "    target_variable=\"Gravity\",\n",
    "    results_dir=accidents_results_dir,\n",
    "    additional_data_tables={\"Accident`Vehicles\": vehicles_data_file},\n",
    "    max_constructed_variables=1000,\n",
    "    max_trees=0,\n",
    ")\n",
    "print(f\"AccidentsSummary report file: {accidents_report}\")\n",
    "print(f\"AccidentsSummary modeling dictionary: {accidents_model_kdic}\")"
   ]
  },
  {
   "cell_type": "markdown",
   "metadata": {},
   "source": [
    "#### Take a look to the report\n",
    "Which variables predict well the gravity of an accident?"
   ]
  },
  {
   "cell_type": "code",
   "execution_count": null,
   "metadata": {
    "is_khiops_tutorial_solution": true
   },
   "outputs": [],
   "source": [
    "# To visualize uncomment the line below\n",
    "# kh.visualize_report(accidents_report)"
   ]
  }
 ],
 "metadata": {
  "celltoolbar": "Edit Metadata",
  "kernelspec": {
   "display_name": "Python 3",
   "language": "python",
   "name": "python3"
  },
  "language_info": {
   "codemirror_mode": {
    "name": "ipython",
    "version": 3
   },
   "file_extension": ".py",
   "mimetype": "text/x-python",
   "name": "python",
   "nbconvert_exporter": "python",
   "pygments_lexer": "ipython3"
  }
 },
 "nbformat": 4,
 "nbformat_minor": 4
}